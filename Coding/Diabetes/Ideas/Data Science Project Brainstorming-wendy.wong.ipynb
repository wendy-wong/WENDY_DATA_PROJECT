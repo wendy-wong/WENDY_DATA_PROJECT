{
 "cells": [
  {
   "cell_type": "markdown",
   "metadata": {},
   "source": [
    " Entry: 1 November 2016\n",
    "\n",
    "### GA Data Science - Final Project\n",
    "\n",
    "Step 1. Follow the CRISP-DM workflow  (i.e. Data Science workflow)\n",
    "\n",
    "\n",
    "\n",
    "\n"
   ]
  },
  {
   "cell_type": "markdown",
   "metadata": {},
   "source": [
    "###  Research problems proposed:\n",
    "\n",
    "1. Stroke\n",
    "- What is the recovery rate of the body after a haemorrhagic stroke? What factors can predict recovery of speech and movement of the motor side of the body (i.e. left hand side of the brain)?\n",
    "\n",
    "\n",
    "2. Diabetes\n",
    "- Which demographic (i.e. race, gender, age, location, education, income or other lifestyle factors) are likely to develop Type 2 diabetes?\n",
    "- How likely are you to have a stroke if you already have diabetes?\n",
    "- Are you likely to develop diabetes if you have a parent with diabetes?\n"
   ]
  },
  {
   "cell_type": "markdown",
   "metadata": {},
   "source": [
    "### What do you want to achieve?\n",
    "\n",
    "1. Stroke\n",
    "I want to understand the rate of recovery on the brain after a Haemorrhagic stroke after my dad had a recent fall\n",
    "\n",
    "2. Diabetes\n",
    "I want understand the risk factors of having a second stroke for people diagnosed with diabetes. The subject is again related to my dad."
   ]
  },
  {
   "cell_type": "markdown",
   "metadata": {},
   "source": [
    "#### Datasets\n",
    "\n",
    "1.Currently researching into the datasets for both Stroke and Diabetes from the US because health data is not open source in Australia as yet\n",
    "\n",
    "* 1.Stroke:\n",
    "\n",
    "* Data.gov \n",
    "https://catalog.data.gov/dataset?q=stroke&sort=score+desc%2C+name+asc\n",
    "\n",
    "- Behavourial risk factors for heart disease and stroke prevention data set:\n",
    "https://catalog.data.gov/dataset/behavioral-risk-factor-data-heart-disease-amp-stroke-prevention\n",
    "\n",
    "- Stroke mortalilty among adults (35+) in the US:\n",
    "\n",
    "https://catalog.data.gov/dataset/stroke-mortality-data-among-us-adults-35-by-state-territory-and-county\n",
    "\n",
    "\n",
    "* 2.Diabetes:\n",
    "\n",
    "UCI Machine Learning repository\n",
    "\n",
    "https://archive.ics.uci.edu/ml/datasets/Diabetes+130-US+hospitals+for+years+1999-2008\n",
    "\n",
    "\n",
    "\n"
   ]
  },
  {
   "cell_type": "code",
   "execution_count": null,
   "metadata": {
    "collapsed": true
   },
   "outputs": [],
   "source": []
  }
 ],
 "metadata": {
  "anaconda-cloud": {},
  "kernelspec": {
   "display_name": "Python [default]",
   "language": "python",
   "name": "python2"
  },
  "language_info": {
   "codemirror_mode": {
    "name": "ipython",
    "version": 2
   },
   "file_extension": ".py",
   "mimetype": "text/x-python",
   "name": "python",
   "nbconvert_exporter": "python",
   "pygments_lexer": "ipython2",
   "version": "2.7.12"
  }
 },
 "nbformat": 4,
 "nbformat_minor": 1
}
