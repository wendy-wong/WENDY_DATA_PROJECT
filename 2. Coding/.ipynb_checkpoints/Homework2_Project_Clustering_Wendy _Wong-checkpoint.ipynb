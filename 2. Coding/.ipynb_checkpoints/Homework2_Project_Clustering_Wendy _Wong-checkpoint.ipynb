{
 "cells": [
  {
   "cell_type": "markdown",
   "metadata": {},
   "source": [
    "## Data Project - Experimenting with Code for Clustering (K-means) in Scikit Learn"
   ]
  },
  {
   "cell_type": "code",
   "execution_count": 3,
   "metadata": {
    "collapsed": true
   },
   "outputs": [],
   "source": [
    "#  Use Scikit learn to perform a simple clustering technique of K-means clustering to check patterns of patients with diabetes"
   ]
  },
  {
   "cell_type": "code",
   "execution_count": 2,
   "metadata": {
    "collapsed": false
   },
   "outputs": [],
   "source": [
    "from sklearn.datasets import make_blobs\n",
    "from sklearn.cluster import KMeans\n",
    "from sklearn import cluster, datasets\n",
    "import matplotlib.pyplot as plt\n",
    "\n",
    "\n",
    "from sklearn import datasets\n",
    "import pandas as pd\n",
    "import numpy as np\n",
    "%matplotlib inline"
   ]
  },
  {
   "cell_type": "code",
   "execution_count": 3,
   "metadata": {
    "collapsed": false
   },
   "outputs": [],
   "source": [
    "# Read the Diabetic dataset\n",
    "\n",
    "# Read diabetic_data.csv into a Dataframe called 'diabetes'\n",
    "diabetes = pd.read_table('diabetic_data.csv', sep=',')\n",
    "diabetes = pd.read_csv('diabetic_data.csv')\n",
    "\n"
   ]
  },
  {
   "cell_type": "code",
   "execution_count": 4,
   "metadata": {
    "collapsed": true
   },
   "outputs": [],
   "source": [
    "# Load dataset\n",
    "diabetes = datasets.load_diabetes()\n",
    "d = diabetes.data"
   ]
  },
  {
   "cell_type": "code",
   "execution_count": 6,
   "metadata": {
    "collapsed": false
   },
   "outputs": [],
   "source": [
    "\n",
    "# generate two-dimensional data\n",
    "X_diabetes = d\n",
    "y_diabetes = make_blobs(random_state=1)"
   ]
  },
  {
   "cell_type": "code",
   "execution_count": 8,
   "metadata": {
    "collapsed": false
   },
   "outputs": [
    {
     "data": {
      "text/plain": [
       "KMeans(copy_x=True, init='k-means++', max_iter=300, n_clusters=4, n_init=10,\n",
       "    n_jobs=1, precompute_distances='auto', random_state=None, tol=0.0001,\n",
       "    verbose=0)"
      ]
     },
     "execution_count": 8,
     "metadata": {},
     "output_type": "execute_result"
    }
   ],
   "source": [
    "# I chose 4 clusters because I want group data by  'race' to understand the variations of each group who have diabetes\n",
    "# Build  the clustering model\n",
    "kmeans = KMeans(n_clusters=4)\n",
    "kmeans.fit(X_diabetes)"
   ]
  },
  {
   "cell_type": "code",
   "execution_count": 9,
   "metadata": {
    "collapsed": false
   },
   "outputs": [
    {
     "name": "stdout",
     "output_type": "stream",
     "text": [
      "Cluster memberships:\n",
      "[3 2 3 3 0 2 2 1 3 3 2 3 0 3 0 1 0 1 2 0 2 2 2 1 2 3 2 0 2 3 0 2 3 0 2 0 0\n",
      " 0 1 3 1 2 3 0 3 3 2 2 0 3 0 3 0 0 0 0 3 2 0 1 2 3 2 2 3 1 3 3 3 2 0 1 1 1\n",
      " 3 3 3 2 2 2 0 3 0 2 2 0 2 0 2 0 0 1 0 2 2 2 3 1 3 0 0 0 0 1 0 3 2 3 3 1 2\n",
      " 0 0 1 1 1 1 1 1 0 2 1 1 1 0 3 2 0 2 1 3 2 3 2 0 3 2 3 3 3 3 1 1 0 1 3 3 1\n",
      " 0 3 3 0 1 3 3 1 2 1 2 3 2 1 2 3 0 2 2 1 1 1 0 2 1 2 3 0 3 1 0 1 3 0 1 3 3\n",
      " 3 1 2 0 0 3 2 0 1 2 1 0 3 2 0 0 0 1 1 3 3 1 0 1 3 0 0 0 0 2 3 1 1 2 2 2 2\n",
      " 3 2 2 3 2 0 2 0 1 0 1 0 3 3 1 0 3 1 3 3 2 3 2 2 0 2 1 1 3 1 1 1 1 0 3 0 1\n",
      " 0 0 0 1 2 3 3 0 1 1 0 3 3 2 1 3 3 1 2 3 3 3 2 1 2 3 1 2 1 0 1 1 1 2 0 3 3\n",
      " 0 2 2 3 3 3 1 1 1 3 3 1 2 1 3 1 2 1 0 0 3 1 0 0 1 1 1 1 1 1 3 1 3 3 3 3 1\n",
      " 3 2 0 1 3 2 0 0 3 3 0 0 1 1 3 0 2 1 2 2 1 1 3 0 3 2 3 3 0 3 3 3 3 1 1 1 3\n",
      " 0 1 0 2 2 1 1 1 3 2 3 2 3 3 1 3 0 2 3 2 1 2 3 2 1 2 2 3 0 3 0 0 3 3 0 3 2\n",
      " 3 1 1 1 2 1 0 1 1 3 2 0 2 3 1 1 1 3 2 1 3 1 0 0 3 1 0 0 2 2 3 1 3 1 0]\n"
     ]
    }
   ],
   "source": [
    "print(\"Cluster memberships:\\n{}\".format(kmeans.labels_))"
   ]
  },
  {
   "cell_type": "code",
   "execution_count": 11,
   "metadata": {
    "collapsed": false
   },
   "outputs": [
    {
     "name": "stdout",
     "output_type": "stream",
     "text": [
      "[3 2 3 3 0 2 2 1 3 3 2 3 0 3 0 1 0 1 2 0 2 2 2 1 2 3 2 0 2 3 0 2 3 0 2 0 0\n",
      " 0 1 3 1 2 3 0 3 3 2 2 0 3 0 3 0 0 0 0 3 2 0 1 2 3 2 2 3 1 3 3 3 2 0 1 1 1\n",
      " 3 3 3 2 2 2 0 3 0 2 2 0 2 0 2 0 0 1 0 2 2 2 3 1 3 0 0 0 0 1 0 3 2 3 3 1 2\n",
      " 0 0 1 1 1 1 1 1 0 2 1 1 1 0 3 2 0 2 1 3 2 3 2 0 3 2 3 3 3 3 1 1 0 1 3 3 1\n",
      " 0 3 3 0 1 3 3 1 2 1 2 3 2 1 2 3 0 2 2 1 1 1 0 2 1 2 3 0 3 1 0 1 3 0 1 3 3\n",
      " 3 1 2 0 0 3 2 0 1 2 1 0 3 2 0 0 0 1 1 3 3 1 0 1 3 0 0 0 0 2 3 1 1 2 2 2 2\n",
      " 3 2 2 3 2 0 2 0 1 0 1 0 3 3 1 0 3 1 3 3 2 3 2 2 0 2 1 1 3 1 1 1 1 0 3 0 1\n",
      " 0 0 0 1 2 3 3 0 1 1 0 3 3 2 1 3 3 1 2 3 3 3 2 1 2 3 1 2 1 0 1 1 1 2 0 3 3\n",
      " 0 2 2 3 3 3 1 1 1 3 3 1 2 1 3 1 2 1 0 0 3 1 0 0 1 1 1 1 1 1 3 1 3 3 3 3 1\n",
      " 3 2 0 1 3 2 0 0 3 3 0 0 1 1 3 0 2 1 2 2 1 1 3 0 3 2 3 3 0 3 3 3 3 1 1 1 3\n",
      " 0 1 0 2 2 1 1 1 3 2 3 2 3 3 1 3 0 2 3 2 1 2 3 2 1 2 2 3 0 3 0 0 3 3 0 3 2\n",
      " 3 1 1 1 2 1 0 1 1 3 2 0 2 3 1 1 1 3 2 1 3 1 0 0 3 1 0 0 2 2 3 1 3 1 0]\n"
     ]
    }
   ],
   "source": [
    "print(kmeans.predict(X_diabetes))"
   ]
  },
  {
   "cell_type": "code",
   "execution_count": null,
   "metadata": {
    "collapsed": true
   },
   "outputs": [],
   "source": []
  }
 ],
 "metadata": {
  "anaconda-cloud": {},
  "kernelspec": {
   "display_name": "Python [default]",
   "language": "python",
   "name": "python2"
  },
  "language_info": {
   "codemirror_mode": {
    "name": "ipython",
    "version": 2
   },
   "file_extension": ".py",
   "mimetype": "text/x-python",
   "name": "python",
   "nbconvert_exporter": "python",
   "pygments_lexer": "ipython2",
   "version": "2.7.12"
  }
 },
 "nbformat": 4,
 "nbformat_minor": 1
}
